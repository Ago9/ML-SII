{
  "nbformat": 4,
  "nbformat_minor": 0,
  "metadata": {
    "colab": {
      "name": "progetto.ipynb",
      "provenance": [],
      "collapsed_sections": [],
      "authorship_tag": "ABX9TyMiv7tM+BylvB+S29dZ/IwV",
      "include_colab_link": true
    },
    "kernelspec": {
      "name": "python3",
      "display_name": "Python 3"
    }
  },
  "cells": [
    {
      "cell_type": "markdown",
      "metadata": {
        "id": "view-in-github",
        "colab_type": "text"
      },
      "source": [
        "<a href=\"https://colab.research.google.com/github/Ago9/ML-SII/blob/master/progetto.ipynb\" target=\"_parent\"><img src=\"https://colab.research.google.com/assets/colab-badge.svg\" alt=\"Open In Colab\"/></a>"
      ]
    },
    {
      "cell_type": "code",
      "metadata": {
        "id": "VRspIgtyqyy8",
        "colab_type": "code",
        "colab": {}
      },
      "source": [
        "import pandas as pd\n",
        "import numpy as np\n"
      ],
      "execution_count": null,
      "outputs": []
    },
    {
      "cell_type": "code",
      "metadata": {
        "id": "u4j1L4jhdn3n",
        "colab_type": "code",
        "colab": {
          "base_uri": "https://localhost:8080/",
          "height": 54
        },
        "outputId": "15a7f529-78aa-46d5-d5f5-d2c3298047f9"
      },
      "source": [
        "from google.colab import drive\n",
        "\n",
        "# Accessing My Google Drive\n",
        "drive.mount('/content/drive/')\n",
        "!ls\n"
      ],
      "execution_count": 1,
      "outputs": [
        {
          "output_type": "stream",
          "text": [
            "Mounted at /content/drive/\n",
            "drive  sample_data\n"
          ],
          "name": "stdout"
        }
      ]
    },
    {
      "cell_type": "markdown",
      "metadata": {
        "id": "LCrCWkMVq5pD",
        "colab_type": "text"
      },
      "source": [
        "word2vec implementation for caption"
      ]
    },
    {
      "cell_type": "code",
      "metadata": {
        "id": "1ZNKq18dRQyF",
        "colab_type": "code",
        "colab": {
          "base_uri": "https://localhost:8080/",
          "height": 461
        },
        "outputId": "f6dd5f21-39dc-4eb0-81e1-f24a69cd709d"
      },
      "source": [
        "import re\n",
        "import pandas as pd\n",
        "import gensim \n",
        "from gensim.models import Word2Vec \n",
        "from sklearn.model_selection import train_test_split\n",
        "from nltk.tokenize import sent_tokenize, word_tokenize\n",
        "import nltk\n",
        "from sklearn.preprocessing import LabelEncoder\n",
        "from sklearn.preprocessing import OneHotEncoder\n",
        "nltk.download('punkt')\n",
        "\n",
        "data = pd.read_csv('./caption.csv')\n",
        "\n",
        "data\n"
      ],
      "execution_count": 3,
      "outputs": [
        {
          "output_type": "stream",
          "text": [
            "[nltk_data] Downloading package punkt to /root/nltk_data...\n",
            "[nltk_data]   Package punkt is already up-to-date!\n"
          ],
          "name": "stdout"
        },
        {
          "output_type": "execute_result",
          "data": {
            "text/html": [
              "<div>\n",
              "<style scoped>\n",
              "    .dataframe tbody tr th:only-of-type {\n",
              "        vertical-align: middle;\n",
              "    }\n",
              "\n",
              "    .dataframe tbody tr th {\n",
              "        vertical-align: top;\n",
              "    }\n",
              "\n",
              "    .dataframe thead th {\n",
              "        text-align: right;\n",
              "    }\n",
              "</style>\n",
              "<table border=\"1\" class=\"dataframe\">\n",
              "  <thead>\n",
              "    <tr style=\"text-align: right;\">\n",
              "      <th></th>\n",
              "      <th>caption</th>\n",
              "      <th>label</th>\n",
              "    </tr>\n",
              "  </thead>\n",
              "  <tbody>\n",
              "    <tr>\n",
              "      <th>0</th>\n",
              "      <td>.\\nUltimi bagni d'agosto... poi tutti a lavoro...</td>\n",
              "      <td>mare</td>\n",
              "    </tr>\n",
              "    <tr>\n",
              "      <th>1</th>\n",
              "      <td>#tropea #italy #bucht #italia #felsen #ship #y...</td>\n",
              "      <td>mare</td>\n",
              "    </tr>\n",
              "    <tr>\n",
              "      <th>2</th>\n",
              "      <td>𝕀𝕝 𝕞𝕒𝕣𝕖 𝕙𝕒 𝕢𝕦𝕖𝕤𝕥𝕒 𝕔𝕒𝕡𝕒𝕔𝕚𝕥à; 𝕣𝕖𝕤𝕥𝕚𝕥𝕦𝕚𝕤𝕔𝕖 𝕥𝕦𝕥𝕥𝕠 ...</td>\n",
              "      <td>mare</td>\n",
              "    </tr>\n",
              "    <tr>\n",
              "      <th>3</th>\n",
              "      <td>Total relax ❣️#mare#montagna#amore#amicizia#di...</td>\n",
              "      <td>mare</td>\n",
              "    </tr>\n",
              "    <tr>\n",
              "      <th>4</th>\n",
              "      <td>zezzenella is over 😅\\n#feriefinite#😅#siritorna...</td>\n",
              "      <td>mare</td>\n",
              "    </tr>\n",
              "    <tr>\n",
              "      <th>...</th>\n",
              "      <td>...</td>\n",
              "      <td>...</td>\n",
              "    </tr>\n",
              "    <tr>\n",
              "      <th>95</th>\n",
              "      <td>Se non scali la montagna non ti potrai mai god...</td>\n",
              "      <td>montagna</td>\n",
              "    </tr>\n",
              "    <tr>\n",
              "      <th>96</th>\n",
              "      <td>This summer is over, I hope we will be able to...</td>\n",
              "      <td>montagna</td>\n",
              "    </tr>\n",
              "    <tr>\n",
              "      <th>97</th>\n",
              "      <td>Marino's baby cows😍❤️\\n#paluzza#paluzzacarnia#...</td>\n",
              "      <td>montagna</td>\n",
              "    </tr>\n",
              "    <tr>\n",
              "      <th>98</th>\n",
              "      <td>#montagna #calabria #relax #natura</td>\n",
              "      <td>montagna</td>\n",
              "    </tr>\n",
              "    <tr>\n",
              "      <th>99</th>\n",
              "      <td>NaN</td>\n",
              "      <td>montagna</td>\n",
              "    </tr>\n",
              "  </tbody>\n",
              "</table>\n",
              "<p>100 rows × 2 columns</p>\n",
              "</div>"
            ],
            "text/plain": [
              "                                              caption     label\n",
              "0   .\\nUltimi bagni d'agosto... poi tutti a lavoro...      mare\n",
              "1   #tropea #italy #bucht #italia #felsen #ship #y...      mare\n",
              "2   𝕀𝕝 𝕞𝕒𝕣𝕖 𝕙𝕒 𝕢𝕦𝕖𝕤𝕥𝕒 𝕔𝕒𝕡𝕒𝕔𝕚𝕥à; 𝕣𝕖𝕤𝕥𝕚𝕥𝕦𝕚𝕤𝕔𝕖 𝕥𝕦𝕥𝕥𝕠 ...      mare\n",
              "3   Total relax ❣️#mare#montagna#amore#amicizia#di...      mare\n",
              "4   zezzenella is over 😅\\n#feriefinite#😅#siritorna...      mare\n",
              "..                                                ...       ...\n",
              "95  Se non scali la montagna non ti potrai mai god...  montagna\n",
              "96  This summer is over, I hope we will be able to...  montagna\n",
              "97  Marino's baby cows😍❤️\\n#paluzza#paluzzacarnia#...  montagna\n",
              "98                 #montagna #calabria #relax #natura  montagna\n",
              "99                                                NaN  montagna\n",
              "\n",
              "[100 rows x 2 columns]"
            ]
          },
          "metadata": {
            "tags": []
          },
          "execution_count": 3
        }
      ]
    },
    {
      "cell_type": "code",
      "metadata": {
        "id": "BqjFxPqURYsR",
        "colab_type": "code",
        "colab": {
          "base_uri": "https://localhost:8080/",
          "height": 182
        },
        "outputId": "52dca554-87f9-4e56-b45e-9b41655629ff"
      },
      "source": [
        "data.info()"
      ],
      "execution_count": 4,
      "outputs": [
        {
          "output_type": "stream",
          "text": [
            "<class 'pandas.core.frame.DataFrame'>\n",
            "RangeIndex: 100 entries, 0 to 99\n",
            "Data columns (total 2 columns):\n",
            " #   Column   Non-Null Count  Dtype \n",
            "---  ------   --------------  ----- \n",
            " 0   caption  96 non-null     object\n",
            " 1   label    100 non-null    object\n",
            "dtypes: object(2)\n",
            "memory usage: 1.7+ KB\n"
          ],
          "name": "stdout"
        }
      ]
    },
    {
      "cell_type": "code",
      "metadata": {
        "id": "NahyIXyPRkzH",
        "colab_type": "code",
        "colab": {
          "base_uri": "https://localhost:8080/",
          "height": 182
        },
        "outputId": "50dae307-92cb-41bd-ab6d-c4c4b3faabe0"
      },
      "source": [
        "# elimino le righe nulle\n",
        "data.dropna(axis=0, inplace=True)\n",
        "\n",
        "data = data.astype('str')\n",
        "\n",
        "data.info()"
      ],
      "execution_count": 5,
      "outputs": [
        {
          "output_type": "stream",
          "text": [
            "<class 'pandas.core.frame.DataFrame'>\n",
            "Int64Index: 96 entries, 0 to 98\n",
            "Data columns (total 2 columns):\n",
            " #   Column   Non-Null Count  Dtype \n",
            "---  ------   --------------  ----- \n",
            " 0   caption  96 non-null     object\n",
            " 1   label    96 non-null     object\n",
            "dtypes: object(2)\n",
            "memory usage: 2.2+ KB\n"
          ],
          "name": "stdout"
        }
      ]
    },
    {
      "cell_type": "code",
      "metadata": {
        "id": "pBFmCDzvRn8R",
        "colab_type": "code",
        "colab": {
          "base_uri": "https://localhost:8080/",
          "height": 424
        },
        "outputId": "5b17779c-2d0c-451f-941e-d087068c2c54"
      },
      "source": [
        "# pulizia del testo\n",
        "def clean_text(sen):\n",
        "   # Remove punctuations and numbers\n",
        "    sentence = re.sub('[^a-zA-Z]', ' ', sen)\n",
        "\n",
        "    # Single character removal\n",
        "    sentence = re.sub(r\"\\s+[a-zA-Z]\\s+\", ' ', sentence)\n",
        "\n",
        "    # Removing multiple spaces\n",
        "    sentence = re.sub(r'\\s+', ' ', sentence)\n",
        "\n",
        "    return sentence\n",
        "\n",
        "# applico la pulizia\n",
        "data.caption = data.caption.apply(lambda n: clean_text(n))\n",
        "\n",
        "\n",
        "# uso il label encoder per trasformare i valori categorici in numerici\n",
        "encoder = LabelEncoder()\n",
        "data.label = encoder.fit_transform(data.label)\n",
        "\n",
        "onehotencoder = OneHotEncoder()\n",
        "\n",
        "y = onehotencoder.fit_transform(data.caption.values.reshape(-1,1)).toarray()\n",
        "\n",
        "\n",
        "\n",
        "data"
      ],
      "execution_count": 6,
      "outputs": [
        {
          "output_type": "execute_result",
          "data": {
            "text/html": [
              "<div>\n",
              "<style scoped>\n",
              "    .dataframe tbody tr th:only-of-type {\n",
              "        vertical-align: middle;\n",
              "    }\n",
              "\n",
              "    .dataframe tbody tr th {\n",
              "        vertical-align: top;\n",
              "    }\n",
              "\n",
              "    .dataframe thead th {\n",
              "        text-align: right;\n",
              "    }\n",
              "</style>\n",
              "<table border=\"1\" class=\"dataframe\">\n",
              "  <thead>\n",
              "    <tr style=\"text-align: right;\">\n",
              "      <th></th>\n",
              "      <th>caption</th>\n",
              "      <th>label</th>\n",
              "    </tr>\n",
              "  </thead>\n",
              "  <tbody>\n",
              "    <tr>\n",
              "      <th>0</th>\n",
              "      <td>Ultimi bagni agosto poi tutti lavoro Tutti Sa...</td>\n",
              "      <td>0</td>\n",
              "    </tr>\n",
              "    <tr>\n",
              "      <th>1</th>\n",
              "      <td>tropea italy bucht italia felsen ship yacht s...</td>\n",
              "      <td>0</td>\n",
              "    </tr>\n",
              "    <tr>\n",
              "      <th>2</th>\n",
              "      <td>seaside mare estate estateaddosso estateitali...</td>\n",
              "      <td>0</td>\n",
              "    </tr>\n",
              "    <tr>\n",
              "      <th>3</th>\n",
              "      <td>Total relax mare montagna amore amicizia diver...</td>\n",
              "      <td>0</td>\n",
              "    </tr>\n",
              "    <tr>\n",
              "      <th>4</th>\n",
              "      <td>zezzenella is over feriefinite siritornaallano...</td>\n",
              "      <td>0</td>\n",
              "    </tr>\n",
              "    <tr>\n",
              "      <th>...</th>\n",
              "      <td>...</td>\n",
              "      <td>...</td>\n",
              "    </tr>\n",
              "    <tr>\n",
              "      <th>94</th>\n",
              "      <td>Tre Cime di Lavaredo Agosto Vista da Cima Pic...</td>\n",
              "      <td>1</td>\n",
              "    </tr>\n",
              "    <tr>\n",
              "      <th>95</th>\n",
              "      <td>Se non scali la montagna non ti potrai mai god...</td>\n",
              "      <td>1</td>\n",
              "    </tr>\n",
              "    <tr>\n",
              "      <th>96</th>\n",
              "      <td>This summer is over hope we will be able to tr...</td>\n",
              "      <td>1</td>\n",
              "    </tr>\n",
              "    <tr>\n",
              "      <th>97</th>\n",
              "      <td>Marino baby cows paluzza paluzzacarnia carnia ...</td>\n",
              "      <td>1</td>\n",
              "    </tr>\n",
              "    <tr>\n",
              "      <th>98</th>\n",
              "      <td>montagna calabria relax natura</td>\n",
              "      <td>1</td>\n",
              "    </tr>\n",
              "  </tbody>\n",
              "</table>\n",
              "<p>96 rows × 2 columns</p>\n",
              "</div>"
            ],
            "text/plain": [
              "                                              caption  label\n",
              "0    Ultimi bagni agosto poi tutti lavoro Tutti Sa...      0\n",
              "1    tropea italy bucht italia felsen ship yacht s...      0\n",
              "2    seaside mare estate estateaddosso estateitali...      0\n",
              "3   Total relax mare montagna amore amicizia diver...      0\n",
              "4   zezzenella is over feriefinite siritornaallano...      0\n",
              "..                                                ...    ...\n",
              "94   Tre Cime di Lavaredo Agosto Vista da Cima Pic...      1\n",
              "95  Se non scali la montagna non ti potrai mai god...      1\n",
              "96  This summer is over hope we will be able to tr...      1\n",
              "97  Marino baby cows paluzza paluzzacarnia carnia ...      1\n",
              "98                     montagna calabria relax natura      1\n",
              "\n",
              "[96 rows x 2 columns]"
            ]
          },
          "metadata": {
            "tags": []
          },
          "execution_count": 6
        }
      ]
    },
    {
      "cell_type": "markdown",
      "metadata": {
        "id": "S8jHwcUG3WcZ",
        "colab_type": "text"
      },
      "source": [
        "modello word2vec"
      ]
    },
    {
      "cell_type": "code",
      "metadata": {
        "id": "PWwwtaLhRrqv",
        "colab_type": "code",
        "colab": {
          "base_uri": "https://localhost:8080/",
          "height": 110
        },
        "outputId": "bc3945d4-685d-42e8-a715-dc3715ddacbb"
      },
      "source": [
        "caption = data.caption\n",
        "label = data.label\n",
        "token_train = []\n",
        "label_train = []\n",
        "token_test = []\n",
        "label_test = []\n",
        "\n",
        "# split dei dati in tranning e test set\n",
        "X_train, X_test, y_train, y_test = train_test_split(caption, label, test_size = 0.25, random_state = 1000)\n",
        "\n",
        "# tokenizzo i caption sia per il train sia per il test\n",
        "for i in X_train:\n",
        "  token_train.append(nltk.word_tokenize(i))\n",
        " \n",
        "for j in X_test:\n",
        "  token_test.append(nltk.word_tokenize(j))\n",
        "\n",
        "print(token_train)\n",
        "print(token_test)\n",
        "\n",
        "# genero il modello w2v per il tranning_set\n",
        "\n",
        "model_train = gensim.models.Word2Vec(token_train, min_count = 1,  \n",
        "                              size = 50, window = 3) \n",
        "\n",
        "words = list(model_train.wv.vocab)\n",
        "print(words)\n",
        "\n",
        "X_train_w2v = model_train.wv.vectors\n",
        "\n",
        "#informazioni su embedding\n",
        "pretrained_weights = model_train.wv.vectors\n",
        "vocab_size, emdedding_size = pretrained_weights.shape\n",
        "print('Result embedding shape:', pretrained_weights.shape)\n",
        "\n",
        "# genero il modello w2v per il test_set\n",
        "\n",
        "model_test = gensim.models.Word2Vec(token_test, min_count = 1,  \n",
        "                              size = 50, window = 3) \n",
        "\n",
        "words = list(model_test.wv.vocab)\n",
        "\n",
        "X_test_w2v = model_test.wv.vectors\n",
        "\n"
      ],
      "execution_count": 7,
      "outputs": [
        {
          "output_type": "stream",
          "text": [
            "[['Non', 'ci', 'dovete', 'venire', 'in', 'Calabria', 'come', 'sempre', 'nofilter'], ['Summer', 'photographs', 'mare', 'sea', 'italy', 'summer', 'travel', 'italia', 'photography', 'picoftheday', 'love', 'nature', 'instagood', 'sun', 'photooftheday', 'beach', 'sunset', 'landscape', 'sky', 'beautiful', 'holiday', 'estate', 'instagram', 'photo', 'igersitalia', 'travelphotography', 'sardegna', 'sole', 'spiaggia', 'relax', 'sicily', 'instalike', 'sto', 'usando', 'tagsfinder', 'com', 'www', 'tagsfinder', 'com'], ['Una', 'piccola', 'prova', 'Preferite', 'una', 'foto', 'classica', 'un', 'animazione', 'come', 'questa', 'Fatemi', 'sapere', 'landscape', 'nature', 'photography', 'travel', 'landscapephotography', 'igersveneto', 'igersitalia', 'volgoveneto', 'paesaggio', 'igerslandscapes', 'paesaggioitaliano', 'mountains', 'montagna', 'dolomiti', 'dolomites', 'alps', 'cortina', 'dolomitesunesco', 'hiking', 'trekking', 'instanature', 'instadaily'], ['Il', 'paradiso', 'sotto', 'nostri', 'piedi', 'cos', 'come', 'sopra', 'le', 'nostre', 'teste', 'Copy', 'dolomiti', 'dolomites', 'mountains', 'italy', 'trentino', 'nature', 'italia', 'altoadige', 'trentinoaltoadige', 'dolomiten', 'mountain', 'dolomitiunesco', 'montagna', 'landscape', 'veneto', 'alps', 'instadolomiti', 'trekking', 'travel', 'hiking', 'montagne', 'photography'], ['Dagje', 'de', 'tourist', 'uithangen', 'polignanoamare', 'tourist', 'mare', 'tuktuk', 'weekend', 'gezellig', 'Hollanditali', 'goehoed'], ['Non', 'ho', 'mai', 'visto', 'le', 'onde', 'arrendersi', 'per', 'questo', 'amo', 'il', 'mare', 'mare', 'estate', 'estate', 'estateitaliana'], ['Total', 'relax', 'mare', 'montagna', 'amore', 'amicizia', 'divertimento', 'sunset', 'costierasorrentina', 'pool', 'photography', 'relax', 'aperitivo', 'instagood'], ['pic', 'picoftheday', 'photo', 'photography', 'photooftheday', 'photographylovers', 'travelphotography', 'travel', 'travelgram', 'travelblogger', 'picture', 'sky', 'colline', 'montagna'], ['lagodibraies', 'lago', 'braies', 'lake', 'italia', 'travel', 'italiatravel', 'montagna'], ['Sicilia', 'on', 'the', 'road', 'Macari', 'Per', 'me', 'la', 'spiaggia', 'pi', 'bella', 'di', 'San', 'Vito', 'Lo', 'Capo', 'mare', 'marechiaro', 'mareprofumodimare', 'spiagge', 'spiaggeitaliane', 'spiaggedasogno', 'spiaggia', 'macari', 'sanvitolocapo'], ['Back', 'on', 'track', 'horse', 'horsesofinstagram', 'chestnut', 'mare', 'practice', 'proud', 'eskadron', 'equestrian', 'jumpinghorse', 'thinkpink', 'merrie', 'trots', 'oefeningbaartkunst'], ['seaside', 'mare', 'estate', 'estateaddosso', 'estateitaliana', 'sanpietroinbevagna', 'salento', 'lovissimabikini'], ['montagna', 'calabria', 'relax', 'natura'], ['fiore', 'beach', 'mare', 'amorenelaire', 'happy', 'summertime', 'moment'], ['Ultimi', 'giorni', 'di', 'un', 'estate', 'tutta', 'da', 'ricordare', 'gioiainfinita', 'estate', 'sicilia', 'sicilianboy', 'mollarella', 'sole', 'mare', 'sea', 'nautilus', 'instalike', 'instagood', 'followforfollowback', 'likeforlikes', 'followmeback'], ['M', 'N', 'A', 'N', 'I', 'T', 'S', 'A', 'Stamattina', 'arrivata', 'la', 'prima', 'neve', 'sulle', 'montagnedicasa', 'non', 'ho', 'saputo', 'resistere', 'montagnedilana', 'montagneintesta', 'montagna', 'montagne', 'monviso', 'monvisounesco', 'neve', 'pontechianale', 'vallevaraitatrekking', 'vallevaraita', 'vallidelmonviso', 'terresmonviso', 'fascia', 'trekking', 'headband', 'handmade', 'handmadeheadband', 'outdoor', 'donnedimontagna', 'mountains', 'mountainlovers', 'mountain', 'mountaingirls', 'trekking', 'amolemiemontagne', 'pontechianale'], ['salentomoda', 'italy', 'sole', 'mare', 'vento', 'sabbia', 'lifestyle', 'accessories', 'eleganza', 'moda', 'bellezza', 'larouge'], ['roccia', 'rocks', 'rocce', 'rock', 'montagna', 'mountains', 'valle', 'vallata', 'valdayas', 'vistamontagna', 'panorama', 'montagne', 'monterosa', 'foto', 'fotografia', 'photo', 'photographylovers', 'champoluc', 'escursione', 'photography', 'photographer', 'photographers', 'alpi', 'vistamozzafiato', 'italy', 'bestview', 'paesaggiomontano', 'capturingstory', 'escursionismo', 'valledaosta'], ['torrechianca', 'acquadolce', 'mare', 'salento', 'italia', 'estate', 'fineagosto', 'dronephotography', 'dronestagram', 'drone', 'StronZino'], ['Ridi', 'ogni', 'volta', 'che', 'puoi', 'una', 'medicina', 'buon', 'mercato', 'smile', 'sole', 'cuore', 'mare', 'summertime', 'summervibes', 'summeroutfits', 'instalike', 'instaphoto', 'instamoment', 'instapic', 'instame', 'untuffodovelacquaepiublu', 'nientedipi', 'loveit', 'thesummerismagic', 'photography', 'photooftheday', 'photo', 'me', 'happymoments', 'happyness'], ['Ostatnie', 'promyki', 'o', 'ca', 'trzeba', 'apa', 'na', 'zapas', 'lato', 'wakacje', 'spok', 'morze', 'natura', 'slowlife', 'grecja', 'greece', 'rhodos', 'nature', 'seaside', 'silence', 'travel', 'viaggio', 'grecia', 'sole', 'mare', 'vacanze'], ['La', 'ferrovia', 'Cosenza', 'San', 'Giovanni', 'in', 'Fiore', 'detta', 'anche', 'ferrovia', 'Silana', 'una', 'linea', 'ferroviaria', 'scartamento', 'ridotto', 'della', 'Calabria', 'che', 'collega', 'la', 'citt', 'di', 'Cosenza', 'al', 'suo', 'entroterra', 'silano', 'raggiungendo', 'le', 'rinomate', 'localit', 'montane', 'tra', 'cui', 'Camigliatello', 'Silano', 'Successivamente', 'dal', 'il', 'tratto', 'da', 'quest', 'ultima', 'localit', 'fino', 'San', 'Giovanni', 'in', 'Fiore', 'fu', 'sospeso', 'dal', 'servizio', 'regolare', 'ed', 'era', 'utilizzato', 'solo', 'per', 'treni', 'turistici', 'Seguimi', 'su', 'ross', 'ph', 'calabria', 'italia', 'italy', 'cosenza', 'nature', 'instagood', 'food', 'photooftheday', 'photography', 'mare', 'sunset', 'picoftheday', 'like', 'instagram', 'sud', 'natura', 'madeinitaly', 'likeforlikes', 'viviamolacalabria', 'italianfood', 'calabriadascoprire', 'calabrese', 'beautiful', 'casa', 'calabriaphoto', 'storia', 'stories', 'ferrovia', 'sila', 'camigliatello'], ['Cascate', 'del', 'Tuorno', 'natura', 'nature', 'naturephotography', 'italia', 'photography', 'italy', 'love', 'landscape', 'naturelovers', 'photo', 'naturaleza', 'ig', 'green', 'photooftheday', 'instagood', 'travel', 'picoftheday', 'fotografia', 'fiume', 'montagna', 'lucania', 'relax', 'summer', 'sky', 'trekking', 'bhfyp'], ['amare', 'mare', 'sole', 'relax', 'time', 'nolose', 'rich', 'water', 'plain', 'gcds', 'bo', 'finchemortenoncisepari', 'nolimits', 'nice', 'day', 'off', 'white', 'blu', 'yellow', 'nofilter', 'vibes', 'goodluck', 'yes'], ['Mi', 'Hombre', 'tramonto', 'mare', 'luci', 'summer', 'legend', 'liketime', 'photo', 'sun', 'photography', 'siesta', 'like', 'serendipity', 'stage', 'mode', 'lifestyle'], ['Santa', 'Maria', 'montagna', 'trentinoaltoadige', 'dobbiaco', 'estate', 'nikond'], ['Tre', 'Cime', 'di', 'Lavaredo', 'Agosto', 'Vista', 'da', 'Cima', 'Piccola', 'Dolomiti', 'Unesco', 'Valorizza', 'il', 'tuo', 'locale', 'con', 'un', 'opera', 'unica', 'Scrivimi', 'per', 'maggiori', 'informazioni', 'mountainlover', 'dolomites', 'dolomiti', 'dolomitiunesco', 'montagna', 'rock', 'beautifuldestination', 'naturelover', 'naturephotography', 'trecime', 'trecimedilavaredo', 'visittrentino', 'trentinoaltoadige', 'visitveneto', 'hiking', 'picoftheday', 'lovenature', 'instagood', 'italy', 'inthelandofvenice', 'veneto', 'venice', 'onthetop', 'sky', 'trekkinglover', 'trekking', 'ourplanetdaily', 'welivetoexplore', 'nikonphotography', 'nature', 'shooters'], ['Il', 'gelato', 'con', 'la', 'briosch', 'non', 'si', 'batte', 'sicily', 'gelatoartigianale', 'sole', 'mare', 'relax'], ['Per', 'di', 'qua', 'cartello', 'sentiero', 'trentinodavivere', 'nuvole', 'paesaggioalpino', 'landscape', 'cieloenuvole', 'paesaggio', 'mountain', 'montagna', 'predazzo', 'valvenegia', 'bellezza', 'volgotrentinoaltoadige'], ['xiaomi', 'calabria', 'passione', 'fotografica', 'verso', 'sud', 'ig', 'italia', 'montagna', 'calabriadaamare', 'igerscalabria', 'yallersitalia', 'yallerscalabria', 'ig', 'calabria', 'volgoitalia', 'volgocalabria', 'don', 'in', 'italy', 'vivo', 'italia', 'italy', 'photolovers', 'loves', 'madeinitaly', 'thehub', 'italia', 'new', 'photoitalia', 'total', 'italy', 'sud', 'super', 'pics', 'gf', 'italy', 'kings', 'shots', 'kings', 'alltags', 'italia', 'dev', 'italia', 'shotz', 'shotz', 'of', 'italia', 'italia', 'super', 'pics', 'visititalia', 'foto', 'italiane'], ['giornata', 'inbarca', 'sole', 'mare', 'relax', 'love', 'basile', 'davide'], ['isoladelba', 'lagoditerranera', 'italia', 'italy', 'nikon', 'nikond', 'nikon', 'mm', 'photography', 'fotografia', 'mountains', 'montagna', 'summer', 'estate', 'holiday', 'summer', 'estate', 'paesaggio', 'landscapephotography', 'landscape', 'isoladelbaapp', 'clouds', 'nuvole', 'cabinoviamontecapanne'], ['Viste', 'di', 'Trani', 'Agosto', 'viste', 'trani', 'citt', 'ditrani', 'puglia', 'mare', 'sea', 'mareditrani', 'landscape', 'panorami', 'palme', 'cielo', 'cieloemare', 'lightblue', 'natura', 'vacanzeinitalia', 'agosto'], ['gemmellarogiusy', 'estate', 'summer', 'italy', 'mare', 'italia', 'sea', 'love', 'instagood', 'travel', 'picoftheday', 'photography', 'nature', 'sun', 'photooftheday', 'beach', 'sunset', 'instagram', 'photo', 'holiday', 'relax', 'sole', 'beautiful', 'landscape', 'sky', 'spiaggia', 'bhfyp', 'like', 'estate', 'instalike', 'vacanze'], ['Ultima', 'passeggiata', 'in', 'compagnia', 'montagna', 'pace', 'finevacanza'], ['Had', 'good', 'final', 'day', 'of', 'shipping', 'yearlings', 'out', 'eatbeef', 'agribeef', 'barOranch', 'daviscattleco', 'ranchlife', 'idahocowboygal', 'idahome', 'pamela', 'dillonsladydunit', 'mare', 'ranchhorse'], ['Lilac', 'Sunday', 'sunday', 'home', 'mountain', 'mountains', 'mountainlandscape', 'nature', 'mountaineering', 'montagne', 'naturephotography', 'hiking', 'scotland', 'greatshots', 'scotland', 'clouds', 'explorer', 'skyporn', 'autumn', 'water', 'montagna', 'neverstopexploring', 'landscape', 'lovers', 'bird', 'lake', 'nofilter', 'natureaddict', 'beautiful', 'hiddenscotland', 'panorama', 'naturelovers', 'treeporn', 'scotlandshots'], ['scogliera', 'mare', 'sea', 'nature', 'italy', 'instagood', 'landscape', 'scogli', 'italia', 'photography', 'photooftheday', 'picoftheday', 'sunset', 'panorama', 'travel', 'natura', 'naturephotography', 'summer', 'salento', 'sky', 'estate', 'sole', 'abbruzzo', 'cliff', 'instalike', 'photo', 'porto'], ['Il', 'Paesaggio', 'tutto', 'ci', 'che', 'si', 'incastra', 'tra', 'il', 'respiro', 'la', 'pelle', 'paesaggio', 'mare', 'sea', 'paesaggiomarino', 'beautiful', 'sardegna', 'sardegnaofficial', 'sardinia', 'vacanzeitaliane', 'italy', 'beautifulday', 'sun', 'estate', 'travelsardinia', 'travelphotography', 'puntaest'], ['Camouflage', 'montagna', 'montagnachepassione', 'passionemontagna', 'mountains', 'mountainliving', 'mountains', 'mountainview', 'mountainlover', 'mountainside', 'mountainlife', 'vitadimontagna', 'boschi', 'wildlifephotografy', 'huntinglife', 'hunting', 'rustic', 'lake', 'cozycabin', 'intothewoods', 'intothewild', 'intothewood', 'adventure', 'wildlife', 'montanaro', 'mountain', 'casedimontagna', 'cabin', 'camouflage', 'cabinporn', 'parconazionaledabruzzo'], ['Per', 'chi', 'ha', 'occhi', 'il', 'tramonto', 'uno', 'spettacolo', 'che', 'non', 'tramonta', 'mai', 'cilento', 'cilentocoast', 'sanmarcodicastellabate', 'sunsets', 'sunset', 'sunsetphotography', 'sea', 'mare', 'campaniadavivere', 'campania', 'tramonto', 'agosto', 'italy', 'landscapephotography', 'landscape', 'captures', 'landscape', 'summer', 'yallersitalia', 'shotz', 'of', 'italia', 'naturephotography', 'sunset', 'pics', 'suditalia', 'southitaly', 'sud', 'super', 'pics', 'cilentogram', 'cilentomeraviglie', 'benvenutialsud'], ['Live', 'your', 'dreams', 'it', 'not', 'as', 'hard', 'as', 'it', 'may', 'seem', 'You', 'got', 'ta', 'work', 'to', 'get', 'the', 'cream', 'On', 'your', 'hopes', 'you', 'must', 'lean', 'From', 'your', 'fears', 'you', 'have', 'to', 'win', 'yourself', 'It', 'all', 'or', 'nothing', 'Give', 'your', 'everything', 'me', 'girl', 'estate', 'summer', 'sun', 'sunday', 'sunset', 'blackandwhite', 'red', 'sea', 'mare', 'amazing', 'love', 'lifestyle', 'photooftheday', 'instadaily'], ['L', 'orso', 'pura', 'follia', 'traditore', 'pazzo', 'imprevedibile', 'una', 'tempesta', 'che', 'spazza', 'via', 'tutto', 'che', 'ti', 'fa', 'naufragare', 'quando', 'credi', 'di', 'trovarti', 'in', 'piena', 'bonaccia', 'Da', 'retta', 'Kelderek', 'non', 'fidarti', 'mai', 'dell', 'orso', 'Ti', 'promette', 'il', 'potere', 'di', 'Dio', 'poi', 'ti', 'tradisce', 'ti', 'conduce', 'alla', 'rovina', 'Richard', 'Adams', 'italia', 'italy', 'trekking', 'trekkingitalia', 'natura', 'nature', 'naturaselvaggia', 'intothewild', 'avventura', 'instagood', 'adventure', 'viaggiare', 'travel', 'outdoor', 'escursione', 'montagna', 'mountain', 'life', 'instagram', 'survival', 'photooftheday', 'picoftheday', 'photo', 'landscape', 'bear', 'orso', 'naturephotography', 'prepper', 'animal', 'animali'], ['This', 'summer', 'is', 'over', 'hope', 'we', 'will', 'be', 'able', 'to', 'travel', 'abroad', 'next', 'year', 'dobbiaco', 'valpusteria', 'rainbow', 'summer', 'estate', 'montagna', 'dolomites', 'dolomiti', 'magictrentino', 'visualoflife', 'beautifuldestination', 'planetdiscovery', 'exploretherewards', 'landscape', 'captures', 'landscapes', 'earth', 'shotz', 'landscapephotography', 'rainbowcolors', 'nature', 'perfection'], ['Isola', 'Elba', 'isoladelba', 'enfola', 'tramonto', 'mare', 'felicit'], ['serina', 'passegata', 'montagna', 'italia'], ['Non', 'ultimo', 'giorno', 'di', 'mare', 'no', 'mare', 'sea', 'italy', 'summer', 'italia', 'photography', 'picoftheday', 'love', 'nature', 'sun', 'photooftheday', 'beach', 'sunset', 'landscape', 'sky', 'beautiful', 'holiday', 'estate', 'photo', 'igersitalia', 'travelphotography', 'sole', 'spiaggia', 'relax', 'bikini', 'girls', 'friends'], ['essenza', 'di', 'un', 'uomo', 'si', 'trova', 'nei', 'suoi', 'difetti', 'relax', 'relaxtime', 'spa', 'idromassaggio', 'sauna', 'bagnoturco', 'massaggio', 'pontedilegno', 'pontedilegnotonale', 'montagna', 'mountains', 'mountain'], ['Un', 'timido', 'raggio', 'di', 'sole', 'ci', 'da', 'qualche', 'speranza', 'montagna', 'temporale', 'pioggia', 'raggiodisole', 'canazei', 'trentino', 'trentinoaltoadige', 'italy'], ['mare', 'maremaremare', 'marechiaro', 'vistamare', 'scogli', 'mareblu', 'ancoraestate', 'senzapensieri', 'gentedimare', 'vogliadimare', 'spiaggia', 'spiagge', 'sabbia', 'sole', 'tranquillit', 'riposo'], ['Freedom', 'domenica', 'gita', 'sunday', 'eremo', 'eremodisanbartolomeo', 'abruzzo', 'roccamorice', 'smile', 'libert', 'ariapure', 'montagna', 'freedom', 'love'], ['viaggiare', 'travel', 'viaggio', 'italia', 'viaggi', 'travelphotography', 'italy', 'travelgram', 'viaggiaresempre', 'vacanze', 'travelling', 'instatravel', 'travelblogger', 'mare', 'estate', 'photography', 'viaggiarechepassione', 'turismo', 'love', 'trip', 'wanderlust', 'picoftheday', 'photooftheday', 'nature', 'instagood', 'viaggiatori', 'viaggiando', 'holiday'], ['aperitime', 'aperolspritz', 'aperitivo', 'aperol', 'aperoltime', 'cibo', 'food', 'foodpics', 'foodlover', 'foodblogger', 'cheese', 'formaggi', 'di', 'montagna', 'tomadalpeggio', 'toma', 'gorgonzola', 'formaggio', 'italianfood', 'italy', 'break', 'pausa', 'relax', 'summertime'], ['Cima', 'Croz', 'dell', 'Altissimo', 'crozdellaltissimo', 'cimacrozdellaltissimo', 'peperonifeliciontour', 'summer', 'travel', 'vacation', 'scenery', 'mountainview', 'mountaintop', 'naturelover', 'openfield', 'walking', 'dolomiti', 'dolomitidibrenta', 'dolomites', 'montagna', 'mountain', 'mountainlover', 'nature', 'natureseeker', 'italia', 'italy', 'me', 'girl', 'italiangirl', 'trekking', 'landscapephotography', 'nofilter', 'nofilterneeded'], ['Fammi', 'sentire', 'il', 'mare', 'Al', 'centro', 'di', 'questa', 'citt', 'me', 'estate', 'mare', 'vacanza', 'love', 'relax', 'ligabue', 'instaphoto', 'sea', 'musica', 'memories'], ['Giorno', 'Ritorno', 'di', 'PausaCaffe', 'Manca', 'sempre', 'meno', 'ceunfottutofood', 'gnam', 'italia', 'foodphotography', 'dolcipassioniGF', 'modena', 'HAVINGMEFOOD', 'emiliaromagna', 'foodaroundworld', 'foodsbaraglio', 'cottoedeliziato', 'attimidigusto', 'tradizioni', 'foodblogger', 'paneangelaefantasia', 'tigelle', 'cioccioniefelici', 'foodstagram', 'hovogliadifood', 'cucinadicasa', 'hofameistheway', 'foodsbaraglio', 'incucinatuttiinsieme', 'bardonecchia', 'montagna'], ['moon', 'sky', 'sea', 'night', 'notte', 'luna', 'lunapiena', 'mare', 'maremaremare', 'mer', 'lune', 'lunes', 'nuit'], ['End', 'of', 'summer', 'summer', 'summervibes', 'summertime', 'fashion', 'love', 'estate', 'nature', 'travel', 'beach', 'instagood', 'varigotti', 'sea', 'photooftheday', 'photography', 'style', 'picoftheday', 'sunset', 'summer', 'sun', 'instagram', 'italy', 'liguria', 'like', 'ig', 'vacation', 'follow', 'holiday', 'mare', 'happy', 'bhfyp'], ['La', 'barca', 'pi', 'sicura', 'nel', 'porto', 'ma', 'non', 'per', 'questo', 'che', 'le', 'barche', 'sono', 'state', 'costruite', 'ship', 'in', 'harbor', 'is', 'safe', 'but', 'that', 'is', 'not', 'what', 'ships', 'are', 'built', 'for', 'LIVE', 'LOVE', 'EXPLORE', 'boat', 'ship', 'sunsetlover', 'sunset', 'pics', 'sealife', 'sealovers', 'maremaremare', 'mareprofumodimare', 'lovetravel', 'lovesea', 'explore', 'exploretheworld', 'exploremore', 'sunsets', 'picsamazing', 'seagull', 'seagullwatch', 'orizzonte', 'horizon', 'skyline', 'towardsthesun', 'mare', 'versolinfinitoeoltre'], ['Io', 'che', 'cerco', 'di', 'ricordare', 'che', 'pianta', 'quella', 'Sar', 'forse', 'un', 'epilobio', 'Ci', 'vorrebbe', 'qualcuno', 'laureato', 'in', 'scienze', 'naturali', 'Del', 'rosa', 'ho', 'gi', 'detto', 'vero', 'epilobio', 'scienzenaturali', 'montagna', 'ventina', 'valmalenco', 'trekking', 'hiking', 'rosa', 'pink'], ['Ci', 'vogliono', 'anche', 'di', 'questi', 'giorni', 'cupi', 'bui', 'ma', 'con', 'un', 'fazzoletto', 'di', 'azzurro', 'si', 'intravede', 'mare', 'emiliaromagna', 'italy', 'naturephotography', 'rain', 'claud'], ['The', 'first', 'snow', 'photopassion', 'naturperfection', 'photooftheday', 'pictureoftheday', 'swissmountains', 'naturephotography', 'wonderful', 'places', 'wonderfulnature', 'montagna', 'wandern', 'schweizerberge', 'picoftheday', 'ig', 'myshot', 'ig', 'nature', 'naturally', 'nature', 'naturpa', 'rke', 'adventureisoutside', 'views', 'poweredbynature', 'unexpectedpoetry', 'madeinbern'], ['Profumo', 'di', 'panni', 'gallipoli', 'Puglia', 'salento', 'estate', 'vacanza', 'mare', 'balconi', 'igersalento', 'igerspuglia', 'instasalento'], ['I', 'get', 'up', 'to', 'see', 'with', 'different', 'eyes', 'nature', 'is', 'rich', 'enough', 'for', 'everyone', 'estate', 'estatefinita', 'gargano', 'puglia', 'calisthenics', 'streetworkout', 'mare', 'sea', 'beach', 'madeinitaly', 'italy', 'paradise'], ['E', 'niente', 'Ogni', 'qualvolta', 'che', 'faccio', 'una', 'foto', 'assumo', 'sempre', 'la', 'stessa', 'posa', 'Sono', 'un', 'blocco', 'di', 'cemento', 'likeforlikes', 'toscana', 'portosantostefano', 'passeggiata', 'mare', 'chic', 'photo', 'photography'], ['Ultimi', 'bagni', 'agosto', 'poi', 'tutti', 'lavoro', 'Tutti', 'Sarebbe', 'bello', 'tutti', 'scuola', 'tutti', 'allo', 'stadio', 'Mi', 'sfugge', 'qualcosa', 'Almeno', 'in', 'Italia', 'questa', 'sarebbe', 'la', 'normalit', 'Last', 'baths', 'in', 'august', 'then', 'everyone', 'at', 'work', 'Everyone', 'It', 'would', 'be', 'nice', 'everyone', 'at', 'school', 'everyone', 'at', 'the', 'stadium', 'Am', 'missing', 'something', 'At', 'least', 'in', 'Italy', 'this', 'is', 'would', 'be', 'the', 'norm', 'Buona', 'serata', 'Peaceful', 'evening', 'ostuni', 'puglia', 'salento', 'mare', 'summer', 'summer', 'beach', 'coast', 'adriatisea', 'seacoast', 'adriatico', 'adriatic', 'seaport', 'ship', 'boats', 'sealovers', 'sea', 'location', 'discovery', 'travel', 'trip', 'touring', 'around', 'tourism', 'life', 'clickfor', 'brindisi', 'welcometopuglia', 'welcometosalento', 'igerspuglia', 'igersalento'], ['Ci', 'sono', 'sentirti', 'difficili', 'da', 'percorrere', 'ma', 'vanno', 'comunque', 'intrapresi', 'volte', 'sbagliar', 'strada', 'la', 'cosa', 'migliore', 'che', 'ti', 'pu', 'capitare', 'natura', 'laceno', 'irpinia', 'paesaggio', 'paesaggiirpini', 'paesaggicampani', 'fiumara', 'sentieri', 'cai', 'italia', 'montagna', 'trakking', 'escursione', 'avventura', 'strada', 'libert', 'relax', 'verde', 'fiume', 'acqua', 'vita', 'foresta', 'cammino', 'canion', 'campania', 'landscape', 'foto', 'avellino', 'albero', 'sassi'], ['tropea', 'italy', 'bucht', 'italia', 'felsen', 'ship', 'yacht', 'skyline', 'sea', 'mare', 'mittelmeer', 'meer', 'nature', 'natur', 'landscapephotography', 'landschaft', 'summertime', 'summer', 'sommer', 'vacation', 'holiday', 'calabria'], ['Marmolada', 'riflessa', 'www', 'maxgiorgetta', 'it', 'max', 'giorgetta', 'wedding', 'sony', 'alphasony', 'dolomiti', 'photoftheday', 'marmolada', 'lagofedaia', 'paesi', 'peradifassa', 'lake', 'italy', 'landscape', 'igersitalia', 'hashtag', 'hashtaginstagram', 'instagram', 'mountain', 'volgoitaly', 'scorcitaliani', 'igerstrento', 'visitatrento', 'ig', 'trentino', 'trentino', 'cartoline', 'besttrentinopics', 'nicepictures', 'trentino', 'montagna', 'trekkingitaly', 'italipics', 'italyexposure'], ['metri', 'di', 'ghiacciaio', 'spariti', 'in', 'anni', 'Cos', 'quello', 'della', 'Marmolada', 'Un', 'rifugio', 'costruito', 'fine', 'ora', 'non', 'raggiungibile', 'piedi', 'il', 'ghiaccio', 'si', 'ritirato', 'come', 'si', 'vede', 'nella', 'foto', 'Le', 'mutazioni', 'climatiche', 'sono', 'sotto', 'nostri', 'occhi', 'ma', 'sembra', 'che', 'segnali', 'siano', 'inascoltati', 'da', 'chi', 'ha', 'il', 'compito', 'di', 'agire', 'intervenire', 'marmolada', 'ghiacciaio', 'rifugio', 'clima', 'cambiamenticlimatici', 'ecosistema', 'biocorrendo', 'blogger', 'news', 'montagna'], ['calabria', 'montagna', 'zomaro', 'parconazionaledaspromonte'], ['Total', 'relax', 'mare', 'montagna', 'amore', 'amicizia', 'divertimento', 'sunset', 'costierasorrentina', 'pool', 'photography', 'relax', 'aperitivo', 'instagood']]\n",
            "[['Marino', 'baby', 'cows', 'paluzza', 'paluzzacarnia', 'carnia', 'malga', 'malgacollinetta', 'vitellini', 'montagnachepassione', 'montagna', 'friuliveneziagiulia', 'love', 'fvgphoto', 'friulidascoprire', 'fri', 'collinetta', 'margaro', 'naturephotography', 'nature', 'stalla', 'cow', 'babycow', 'cowofinstagram', 'pezzatarossa', 'farmerlife', 'agricoltori', 'agricoltoridimontagna'], ['zezzenella', 'is', 'over', 'feriefinite', 'siritornaallanormalit', 'voglioviverecos', 'mare', 'relax', 'life', 'love', 'istagram', 'zezzenellaisover', 'istaphoto', 'sunday', 'summertime'], ['relax', 'panorama', 'montagna', 'home'], ['heila', 'questo', 'sar', 'ultimo', 'post', 'del', 'tema', 'anche', 'se', 'non', 'mi', 'convince', 'per', 'niente', 'con', 'lo', 'sfondo', 'bianco', 'da', 'settembre', 'ci', 'sar', 'un', 'altro', 'tema', 'molto', 'colorato', 'qual', 'la', 'vostra', 'materia', 'preferita', 'studygram', 'study', 'studygrammer', 'brushpens', 'brushpen', 'lettering', 'emoji', 'studymotivation', 'beasletters', 'montagna', 'art', 'colour', 'tombow', 'lyrafeelcreative', 'crayolasupertips', 'bujo', 'bulletjournal', 'bujo', 'bujoinspiration', 'bujoideas', 'august', 'reel', 'vacanza', 'whitelinespaper'], ['nelbludipintodiblu', 'dianomarina', 'finalmentemare', 'sunset', 'sea', 'mare', 'estate', 'estateitaliana'], ['sanvitodicadore', 'cadore', 'cadoredolomiti', 'dolomiti', 'dolomitiunesco', 'dolomitibellunesi', 'instadolomiti', 'dolomitilovers', 'dolomitiamo', 'dolomitiemotions', 'dolomitidasogno', 'passionedolomiti', 'dolomiti', 'emotions', 'dolomitichepassione', 'dolomitivenete', 'montagna', 'montagnachepassione', 'passionemontagna', 'montagna', 'alpi', 'alpinismo', 'veneto', 'super', 'pics', 'veneto', 'venetogram', 'mountain', 'mountains', 'mountainlovers', 'mountainlife', 'mountainview', 'mountainsviews'], ['Neve', 'di', 'fine', 'agosto', 'neve', 'snow', 'primaneve', 'montagna', 'verbier', 'brrr'], ['Somewhere', 'between', 'the', 'bottom', 'of', 'the', 'climb', 'and', 'the', 'summit', 'is', 'the', 'answer', 'to', 'the', 'mystery', 'why', 'we', 'climbing', 'mountain', 'nature', 'mountains', 'landscape', 'travel', 'hiking', 'photography', 'naturephotography', 'adventure', 'trekking', 'snow', 'sky', 'photooftheday', 'travelphotography', 'landscapephotography', 'love', 'naturelovers', 'outdoor', 'outdoors', 'instagood', 'montagna', 'picoftheday', 'italy', 'photo', 'explore'], ['Ineffabile', 'Sicilia', 'Elena', 'Roberto', 'accoglieranno', 'tra', 'poco', 'Loro', 'Ospiti', 'nel', 'Giardino', 'sul', 'mare', 'de', 'La', 'Casa', 'del', 'Grecale'], ['Golden', 'hour', 'tramonto', 'gaeta', 'mare', 'sea', 'porto', 'lungomare', 'sunset', 'sky', 'postcard', 'vacation', 'italy'], ['baranodischia', 'ischia', 'estate', 'vacanzeinitalia', 'paesemeraviglioso', 'campania', 'mare', 'girodellisola', 'caldo'], ['Se', 'non', 'scali', 'la', 'montagna', 'non', 'ti', 'potrai', 'mai', 'godere', 'il', 'paesaggio', 'Pablo', 'Neruda', 'escursione', 'bosco', 'cimamarta', 'sentieri', 'trekkingItalia', 'liguria', 'valle', 'mountainslovers', 'mountains', 'montagna', 'trekking', 'travel', 'italy', 'cieloazzurro', 'blusky', 'panoramic', 'followme', 'nature', 'naturephotography', 'ig', 'italia', 'sky', 'green', 'clouds', 'beautiful', 'beauty'], ['Un', 'attimo', 'prima', 'delle', 'forti', 'raffiche', 'di', 'vento', 'che', 'ci', 'hanno', 'costretto', 'poi', 'alla', 'non', 'dormita', 'in', 'una', 'panca', 'cielo', 'aperto', 'Anzich', 'nella', 'tenda', 'che', 'voleva', 'proprio', 'prendere', 'il', 'volo', 'Nei', 'dintorni', 'del', 'rifugio', 'Carlo', 'Franchetti', 'gransasso', 'cornopiccolo', 'appennini', 'tramonto', 'sunset', 'sunsetphotography', 'rifugiofranchetti', 'bivacco', 'naturephotography', 'naturelover', 'montagna', 'editing', 'canonphotography'], ['San', 'Giovanni', 'al', 'Monte', 'arcobaleno', 'rainbow', 'montagna', 'mountain', 'arco', 'visittrentino', 'visititaly', 'sangiovannialmonte'], ['p', 'e', 'i', 'u', 'i', 'Per', 'le', 'viuzze', 'di', 'sanvitolocapo', 'mi', 'son', 'ritrovata', 'questa', 'bella', 'porta', 'colorata', 'di', 'azzurro', 'Un', 'colore', 'che', 'mi', 'trasmette', 'serenit', 'penso', 'proprio', 'per', 'associazione', 'che', 'il', 'mio', 'cervello', 'in', 'automatico', 'fa', 'con', 'il', 'mare', 'con', 'il', 'cielo', 'Quei', 'posti', 'infinitamente', 'estesi', 'dove', 'rivolgo', 'lo', 'sguardo', 'quando', 'sento', 'il', 'bisogno', 'di', 'pace', 'pacedeisensi', 'throwbackpic', 'siciliaoccidentale'], ['O', 'Gesucrist', 'Maratea', 'giusy', 'caliendo', 'mylove', 'mare', 'lestateancoranon', 'finita'], ['Il', 'riassunto', 'di', 'una', 'vacanza', 'in', 'una', 'foto', 'family', 'estateitaliana', 'vacanze', 'altabadia', 'montagna', 'trentino', 'natura', 'relax'], ['sunrise', 'alba', 'amanecer', 'leverdesoleil', 'sea', 'mare', 'mar', 'mer', 'canetplage'], ['Ultimo', 'weekend', 'di', 'agosto', 'weekendbelli', 'cameraconvista', 'liberalamente', 'staccalaspina', 'freeyourmind', 'montagna', 'natura', 'naturephotography', 'naturelovers', 'naturescape', 'natureaddict', 'naturevibes', 'naturepic', 'mountainscape', 'mountainvibes', 'mountainlovers', 'mountainexcursion', 'mountainphotography', 'mountainlandscape', 'italianlandscape', 'paesaggi', 'italiani'], ['puglia', 'capilungo', 'capilungomarinadialliste', 'marinadisangregorio', 'mare', 'maremaremare', 'pugliaview'], ['The', 'last', 'day', 'of', 'freedom', 'mare', 'libert', 'nuvole', 'ventotraicapelli', 'freedom', 'salsedine', 'respirare', 'musica', 'felicit', 'mimancher', 'amore', 'passioneperilmare', 'viveresenzafiltri', 'rimini'], ['mare', 'sea', 'tramonto', 'sole', 'foto', 'sardegna', 'sardinia', 'costarey', 'picture', 'scogli', 'meraviglioso', 'me', 'colori', 'followme', 'liketime', 'romantic'], ['Scenari', 'unici', 'al', 'mondo', 'bellezze', 'naturali', 'cos', 'incredibili', 'da', 'meritarsi', 'un', 'posto', 'nella', 'lista', 'dei', 'patrimoni', 'UNESCO', 'non', 'siete', 'in', 'paradiso', 'ma', 'sulle', 'Dolomiti', 'date', 'un', 'occhiata', 'alla', 'storia', 'in', 'evidenza', 'Trentino', 'per', 'scoprire', 'giri', 'panoramici', 'camminate', 'avventurose', 'alla', 'scoperta', 'della', 'catena', 'montuosa', 'pi', 'bella', 'che', 'ci', 'sia', 'dolomiti', 'dolomites', 'mountains', 'italy', 'nature', 'landscape', 'travel', 'mountain', 'italia', 'trentino', 'hiking', 'naturephotography', 'photography', 'alps', 'altoadige', 'trekking', 'picoftheday', 'trentinoaltoadige', 'montagna', 'dolomiten', 'lake', 'photooftheday', 'landscapephotography', 'lagodibraies', 'naturelovers', 'dtirol', 'southtyrol', 'travelphotography', 'firstposts', 'dolomitiunesco'], ['Startrail', 'dietro', 'al', 'Cervino', 'discoverwithalpha', 'it', 'ilc', 'iii', 'm', 'sel', 'nature', 'naturelovers', 'landscape', 'landscapephotography', 'lungaesposizione', 'longesposure', 'hiking', 'alpi', 'alps', 'cervinia', 'breuilcervinia', 'cervino', 'montecervino', 'matterhorn', 'montagna', 'mountains', 'valledaosta', 'valtournenche', 'stars', 'startrail', 'cvaltournenche', 'valturnenche', 'cerviniavalt', 'cervino', 'village', 'valle', 'del', 'cervino', 'zermatt', 'matterhorn', 'matterhornview', 'valledaosta', 'official', 'valledaostaimmaginiemozioni', 'valledaostanelcuore', 'startrails', 'art']]\n",
            "['Non', 'ci', 'dovete', 'venire', 'in', 'Calabria', 'come', 'sempre', 'nofilter', 'Summer', 'photographs', 'mare', 'sea', 'italy', 'summer', 'travel', 'italia', 'photography', 'picoftheday', 'love', 'nature', 'instagood', 'sun', 'photooftheday', 'beach', 'sunset', 'landscape', 'sky', 'beautiful', 'holiday', 'estate', 'instagram', 'photo', 'igersitalia', 'travelphotography', 'sardegna', 'sole', 'spiaggia', 'relax', 'sicily', 'instalike', 'sto', 'usando', 'tagsfinder', 'com', 'www', 'Una', 'piccola', 'prova', 'Preferite', 'una', 'foto', 'classica', 'un', 'animazione', 'questa', 'Fatemi', 'sapere', 'landscapephotography', 'igersveneto', 'volgoveneto', 'paesaggio', 'igerslandscapes', 'paesaggioitaliano', 'mountains', 'montagna', 'dolomiti', 'dolomites', 'alps', 'cortina', 'dolomitesunesco', 'hiking', 'trekking', 'instanature', 'instadaily', 'Il', 'paradiso', 'sotto', 'nostri', 'piedi', 'cos', 'sopra', 'le', 'nostre', 'teste', 'Copy', 'trentino', 'altoadige', 'trentinoaltoadige', 'dolomiten', 'mountain', 'dolomitiunesco', 'veneto', 'instadolomiti', 'montagne', 'Dagje', 'de', 'tourist', 'uithangen', 'polignanoamare', 'tuktuk', 'weekend', 'gezellig', 'Hollanditali', 'goehoed', 'ho', 'mai', 'visto', 'onde', 'arrendersi', 'per', 'questo', 'amo', 'il', 'estateitaliana', 'Total', 'amore', 'amicizia', 'divertimento', 'costierasorrentina', 'pool', 'aperitivo', 'pic', 'photographylovers', 'travelgram', 'travelblogger', 'picture', 'colline', 'lagodibraies', 'lago', 'braies', 'lake', 'italiatravel', 'Sicilia', 'on', 'the', 'road', 'Macari', 'Per', 'me', 'la', 'pi', 'bella', 'di', 'San', 'Vito', 'Lo', 'Capo', 'marechiaro', 'mareprofumodimare', 'spiagge', 'spiaggeitaliane', 'spiaggedasogno', 'macari', 'sanvitolocapo', 'Back', 'track', 'horse', 'horsesofinstagram', 'chestnut', 'practice', 'proud', 'eskadron', 'equestrian', 'jumpinghorse', 'thinkpink', 'merrie', 'trots', 'oefeningbaartkunst', 'seaside', 'estateaddosso', 'sanpietroinbevagna', 'salento', 'lovissimabikini', 'calabria', 'natura', 'fiore', 'amorenelaire', 'happy', 'summertime', 'moment', 'Ultimi', 'giorni', 'tutta', 'da', 'ricordare', 'gioiainfinita', 'sicilia', 'sicilianboy', 'mollarella', 'nautilus', 'followforfollowback', 'likeforlikes', 'followmeback', 'M', 'N', 'A', 'I', 'T', 'S', 'Stamattina', 'arrivata', 'prima', 'neve', 'sulle', 'montagnedicasa', 'non', 'saputo', 'resistere', 'montagnedilana', 'montagneintesta', 'monviso', 'monvisounesco', 'pontechianale', 'vallevaraitatrekking', 'vallevaraita', 'vallidelmonviso', 'terresmonviso', 'fascia', 'headband', 'handmade', 'handmadeheadband', 'outdoor', 'donnedimontagna', 'mountainlovers', 'mountaingirls', 'amolemiemontagne', 'salentomoda', 'vento', 'sabbia', 'lifestyle', 'accessories', 'eleganza', 'moda', 'bellezza', 'larouge', 'roccia', 'rocks', 'rocce', 'rock', 'valle', 'vallata', 'valdayas', 'vistamontagna', 'panorama', 'monterosa', 'fotografia', 'champoluc', 'escursione', 'photographer', 'photographers', 'alpi', 'vistamozzafiato', 'bestview', 'paesaggiomontano', 'capturingstory', 'escursionismo', 'valledaosta', 'torrechianca', 'acquadolce', 'fineagosto', 'dronephotography', 'dronestagram', 'drone', 'StronZino', 'Ridi', 'ogni', 'volta', 'che', 'puoi', 'medicina', 'buon', 'mercato', 'smile', 'cuore', 'summervibes', 'summeroutfits', 'instaphoto', 'instamoment', 'instapic', 'instame', 'untuffodovelacquaepiublu', 'nientedipi', 'loveit', 'thesummerismagic', 'happymoments', 'happyness', 'Ostatnie', 'promyki', 'o', 'ca', 'trzeba', 'apa', 'na', 'zapas', 'lato', 'wakacje', 'spok', 'morze', 'slowlife', 'grecja', 'greece', 'rhodos', 'silence', 'viaggio', 'grecia', 'vacanze', 'La', 'ferrovia', 'Cosenza', 'Giovanni', 'Fiore', 'detta', 'anche', 'Silana', 'linea', 'ferroviaria', 'scartamento', 'ridotto', 'della', 'collega', 'citt', 'al', 'suo', 'entroterra', 'silano', 'raggiungendo', 'rinomate', 'localit', 'montane', 'tra', 'cui', 'Camigliatello', 'Silano', 'Successivamente', 'dal', 'tratto', 'quest', 'ultima', 'fino', 'fu', 'sospeso', 'servizio', 'regolare', 'ed', 'era', 'utilizzato', 'solo', 'treni', 'turistici', 'Seguimi', 'su', 'ross', 'ph', 'cosenza', 'food', 'like', 'sud', 'madeinitaly', 'viviamolacalabria', 'italianfood', 'calabriadascoprire', 'calabrese', 'casa', 'calabriaphoto', 'storia', 'stories', 'sila', 'camigliatello', 'Cascate', 'del', 'Tuorno', 'naturephotography', 'naturelovers', 'naturaleza', 'ig', 'green', 'fiume', 'lucania', 'bhfyp', 'amare', 'time', 'nolose', 'rich', 'water', 'plain', 'gcds', 'bo', 'finchemortenoncisepari', 'nolimits', 'nice', 'day', 'off', 'white', 'blu', 'yellow', 'vibes', 'goodluck', 'yes', 'Mi', 'Hombre', 'tramonto', 'luci', 'legend', 'liketime', 'siesta', 'serendipity', 'stage', 'mode', 'Santa', 'Maria', 'dobbiaco', 'nikond', 'Tre', 'Cime', 'Lavaredo', 'Agosto', 'Vista', 'Cima', 'Piccola', 'Dolomiti', 'Unesco', 'Valorizza', 'tuo', 'locale', 'con', 'opera', 'unica', 'Scrivimi', 'maggiori', 'informazioni', 'mountainlover', 'beautifuldestination', 'naturelover', 'trecime', 'trecimedilavaredo', 'visittrentino', 'visitveneto', 'lovenature', 'inthelandofvenice', 'venice', 'onthetop', 'trekkinglover', 'ourplanetdaily', 'welivetoexplore', 'nikonphotography', 'shooters', 'gelato', 'briosch', 'si', 'batte', 'gelatoartigianale', 'qua', 'cartello', 'sentiero', 'trentinodavivere', 'nuvole', 'paesaggioalpino', 'cieloenuvole', 'predazzo', 'valvenegia', 'volgotrentinoaltoadige', 'xiaomi', 'passione', 'fotografica', 'verso', 'calabriadaamare', 'igerscalabria', 'yallersitalia', 'yallerscalabria', 'volgoitalia', 'volgocalabria', 'don', 'vivo', 'photolovers', 'loves', 'thehub', 'new', 'photoitalia', 'total', 'super', 'pics', 'gf', 'kings', 'shots', 'alltags', 'dev', 'shotz', 'of', 'visititalia', 'italiane', 'giornata', 'inbarca', 'basile', 'davide', 'isoladelba', 'lagoditerranera', 'nikon', 'mm', 'isoladelbaapp', 'clouds', 'cabinoviamontecapanne', 'Viste', 'Trani', 'viste', 'trani', 'ditrani', 'puglia', 'mareditrani', 'panorami', 'palme', 'cielo', 'cieloemare', 'lightblue', 'vacanzeinitalia', 'agosto', 'gemmellarogiusy', 'Ultima', 'passeggiata', 'compagnia', 'pace', 'finevacanza', 'Had', 'good', 'final', 'shipping', 'yearlings', 'out', 'eatbeef', 'agribeef', 'barOranch', 'daviscattleco', 'ranchlife', 'idahocowboygal', 'idahome', 'pamela', 'dillonsladydunit', 'ranchhorse', 'Lilac', 'Sunday', 'sunday', 'home', 'mountainlandscape', 'mountaineering', 'scotland', 'greatshots', 'explorer', 'skyporn', 'autumn', 'neverstopexploring', 'lovers', 'bird', 'natureaddict', 'hiddenscotland', 'treeporn', 'scotlandshots', 'scogliera', 'scogli', 'abbruzzo', 'cliff', 'porto', 'Paesaggio', 'tutto', 'incastra', 'respiro', 'pelle', 'paesaggiomarino', 'sardegnaofficial', 'sardinia', 'vacanzeitaliane', 'beautifulday', 'travelsardinia', 'puntaest', 'Camouflage', 'montagnachepassione', 'passionemontagna', 'mountainliving', 'mountainview', 'mountainside', 'mountainlife', 'vitadimontagna', 'boschi', 'wildlifephotografy', 'huntinglife', 'hunting', 'rustic', 'cozycabin', 'intothewoods', 'intothewild', 'intothewood', 'adventure', 'wildlife', 'montanaro', 'casedimontagna', 'cabin', 'camouflage', 'cabinporn', 'parconazionaledabruzzo', 'chi', 'ha', 'occhi', 'uno', 'spettacolo', 'tramonta', 'cilento', 'cilentocoast', 'sanmarcodicastellabate', 'sunsets', 'sunsetphotography', 'campaniadavivere', 'campania', 'captures', 'suditalia', 'southitaly', 'cilentogram', 'cilentomeraviglie', 'benvenutialsud', 'Live', 'your', 'dreams', 'it', 'not', 'as', 'hard', 'may', 'seem', 'You', 'got', 'ta', 'work', 'to', 'get', 'cream', 'On', 'hopes', 'you', 'must', 'lean', 'From', 'fears', 'have', 'win', 'yourself', 'It', 'all', 'or', 'nothing', 'Give', 'everything', 'girl', 'blackandwhite', 'red', 'amazing', 'L', 'orso', 'pura', 'follia', 'traditore', 'pazzo', 'imprevedibile', 'tempesta', 'spazza', 'via', 'ti', 'fa', 'naufragare', 'quando', 'credi', 'trovarti', 'piena', 'bonaccia', 'Da', 'retta', 'Kelderek', 'fidarti', 'dell', 'Ti', 'promette', 'potere', 'Dio', 'poi', 'tradisce', 'conduce', 'alla', 'rovina', 'Richard', 'Adams', 'trekkingitalia', 'naturaselvaggia', 'avventura', 'viaggiare', 'life', 'survival', 'bear', 'prepper', 'animal', 'animali', 'This', 'is', 'over', 'hope', 'we', 'will', 'be', 'able', 'abroad', 'next', 'year', 'valpusteria', 'rainbow', 'magictrentino', 'visualoflife', 'planetdiscovery', 'exploretherewards', 'landscapes', 'earth', 'rainbowcolors', 'perfection', 'Isola', 'Elba', 'enfola', 'felicit', 'serina', 'passegata', 'ultimo', 'giorno', 'no', 'bikini', 'girls', 'friends', 'essenza', 'uomo', 'trova', 'nei', 'suoi', 'difetti', 'relaxtime', 'spa', 'idromassaggio', 'sauna', 'bagnoturco', 'massaggio', 'pontedilegno', 'pontedilegnotonale', 'Un', 'timido', 'raggio', 'qualche', 'speranza', 'temporale', 'pioggia', 'raggiodisole', 'canazei', 'maremaremare', 'vistamare', 'mareblu', 'ancoraestate', 'senzapensieri', 'gentedimare', 'vogliadimare', 'tranquillit', 'riposo', 'Freedom', 'domenica', 'gita', 'eremo', 'eremodisanbartolomeo', 'abruzzo', 'roccamorice', 'libert', 'ariapure', 'freedom', 'viaggi', 'viaggiaresempre', 'travelling', 'instatravel', 'viaggiarechepassione', 'turismo', 'trip', 'wanderlust', 'viaggiatori', 'viaggiando', 'aperitime', 'aperolspritz', 'aperol', 'aperoltime', 'cibo', 'foodpics', 'foodlover', 'foodblogger', 'cheese', 'formaggi', 'tomadalpeggio', 'toma', 'gorgonzola', 'formaggio', 'break', 'pausa', 'Croz', 'Altissimo', 'crozdellaltissimo', 'cimacrozdellaltissimo', 'peperonifeliciontour', 'vacation', 'scenery', 'mountaintop', 'openfield', 'walking', 'dolomitidibrenta', 'natureseeker', 'italiangirl', 'nofilterneeded', 'Fammi', 'sentire', 'Al', 'centro', 'vacanza', 'ligabue', 'musica', 'memories', 'Giorno', 'Ritorno', 'PausaCaffe', 'Manca', 'meno', 'ceunfottutofood', 'gnam', 'foodphotography', 'dolcipassioniGF', 'modena', 'HAVINGMEFOOD', 'emiliaromagna', 'foodaroundworld', 'foodsbaraglio', 'cottoedeliziato', 'attimidigusto', 'tradizioni', 'paneangelaefantasia', 'tigelle', 'cioccioniefelici', 'foodstagram', 'hovogliadifood', 'cucinadicasa', 'hofameistheway', 'incucinatuttiinsieme', 'bardonecchia', 'moon', 'night', 'notte', 'luna', 'lunapiena', 'mer', 'lune', 'lunes', 'nuit', 'End', 'fashion', 'varigotti', 'style', 'liguria', 'follow', 'barca', 'sicura', 'nel', 'ma', 'barche', 'sono', 'state', 'costruite', 'ship', 'harbor', 'safe', 'but', 'that', 'what', 'ships', 'are', 'built', 'for', 'LIVE', 'LOVE', 'EXPLORE', 'boat', 'sunsetlover', 'sealife', 'sealovers', 'lovetravel', 'lovesea', 'explore', 'exploretheworld', 'exploremore', 'picsamazing', 'seagull', 'seagullwatch', 'orizzonte', 'horizon', 'skyline', 'towardsthesun', 'versolinfinitoeoltre', 'Io', 'cerco', 'pianta', 'quella', 'Sar', 'forse', 'epilobio', 'Ci', 'vorrebbe', 'qualcuno', 'laureato', 'scienze', 'naturali', 'Del', 'rosa', 'gi', 'detto', 'vero', 'scienzenaturali', 'ventina', 'valmalenco', 'pink', 'vogliono', 'questi', 'cupi', 'bui', 'fazzoletto', 'azzurro', 'intravede', 'rain', 'claud', 'The', 'first', 'snow', 'photopassion', 'naturperfection', 'pictureoftheday', 'swissmountains', 'wonderful', 'places', 'wonderfulnature', 'wandern', 'schweizerberge', 'myshot', 'naturally', 'naturpa', 'rke', 'adventureisoutside', 'views', 'poweredbynature', 'unexpectedpoetry', 'madeinbern', 'Profumo', 'panni', 'gallipoli', 'Puglia', 'balconi', 'igersalento', 'igerspuglia', 'instasalento', 'up', 'see', 'with', 'different', 'eyes', 'enough', 'everyone', 'estatefinita', 'gargano', 'calisthenics', 'streetworkout', 'paradise', 'E', 'niente', 'Ogni', 'qualvolta', 'faccio', 'assumo', 'stessa', 'posa', 'Sono', 'blocco', 'cemento', 'toscana', 'portosantostefano', 'chic', 'bagni', 'tutti', 'lavoro', 'Tutti', 'Sarebbe', 'bello', 'scuola', 'allo', 'stadio', 'sfugge', 'qualcosa', 'Almeno', 'Italia', 'sarebbe', 'normalit', 'Last', 'baths', 'august', 'then', 'at', 'Everyone', 'would', 'school', 'stadium', 'Am', 'missing', 'something', 'At', 'least', 'Italy', 'this', 'norm', 'Buona', 'serata', 'Peaceful', 'evening', 'ostuni', 'coast', 'adriatisea', 'seacoast', 'adriatico', 'adriatic', 'seaport', 'boats', 'location', 'discovery', 'touring', 'around', 'tourism', 'clickfor', 'brindisi', 'welcometopuglia', 'welcometosalento', 'sentirti', 'difficili', 'percorrere', 'vanno', 'comunque', 'intrapresi', 'volte', 'sbagliar', 'strada', 'cosa', 'migliore', 'pu', 'capitare', 'laceno', 'irpinia', 'paesaggiirpini', 'paesaggicampani', 'fiumara', 'sentieri', 'cai', 'trakking', 'verde', 'acqua', 'vita', 'foresta', 'cammino', 'canion', 'avellino', 'albero', 'sassi', 'tropea', 'bucht', 'felsen', 'yacht', 'mittelmeer', 'meer', 'natur', 'landschaft', 'sommer', 'Marmolada', 'riflessa', 'maxgiorgetta', 'max', 'giorgetta', 'wedding', 'sony', 'alphasony', 'photoftheday', 'marmolada', 'lagofedaia', 'paesi', 'peradifassa', 'hashtag', 'hashtaginstagram', 'volgoitaly', 'scorcitaliani', 'igerstrento', 'visitatrento', 'cartoline', 'besttrentinopics', 'nicepictures', 'trekkingitaly', 'italipics', 'italyexposure', 'metri', 'ghiacciaio', 'spariti', 'anni', 'Cos', 'quello', 'rifugio', 'costruito', 'fine', 'ora', 'raggiungibile', 'ghiaccio', 'ritirato', 'vede', 'nella', 'Le', 'mutazioni', 'climatiche', 'sembra', 'segnali', 'siano', 'inascoltati', 'compito', 'agire', 'intervenire', 'clima', 'cambiamenticlimatici', 'ecosistema', 'biocorrendo', 'blogger', 'news', 'zomaro', 'parconazionaledaspromonte']\n",
            "Result embedding shape: (1135, 50)\n"
          ],
          "name": "stdout"
        }
      ]
    },
    {
      "cell_type": "markdown",
      "metadata": {
        "id": "Dpf_xZmexbXz",
        "colab_type": "text"
      },
      "source": [
        "lstm con ingresso le word2vec\n"
      ]
    },
    {
      "cell_type": "code",
      "metadata": {
        "id": "ZQzyC3i3xgk6",
        "colab_type": "code",
        "colab": {
          "base_uri": "https://localhost:8080/",
          "height": 274
        },
        "outputId": "350f08f5-4276-489c-ca96-e43e607cbfd5"
      },
      "source": [
        "import keras\n",
        "from keras import layers\n",
        "\n",
        "model = keras.Sequential()\n",
        "#strato di ingresso di dimensioni di vocab_size e uscita embedding_size\n",
        "model.add(layers.Embedding(input_dim=vocab_size, output_dim=emdedding_size))\n",
        "\n",
        "# strato lstm di dim pari all'output dell'embedding\n",
        "model.add(layers.LSTM(emdedding_size))\n",
        "\n",
        "# strato denso di uscita pari a vocab_size.\n",
        "model.add(layers.Dense(vocab_size))\n",
        "model.compile(optimizer='adam', loss='binary_crossentropy', metrics=['acc'])\n",
        "\n",
        "model.summary()\n"
      ],
      "execution_count": 8,
      "outputs": [
        {
          "output_type": "stream",
          "text": [
            "Model: \"sequential\"\n",
            "_________________________________________________________________\n",
            "Layer (type)                 Output Shape              Param #   \n",
            "=================================================================\n",
            "embedding (Embedding)        (None, None, 50)          56750     \n",
            "_________________________________________________________________\n",
            "lstm (LSTM)                  (None, 50)                20200     \n",
            "_________________________________________________________________\n",
            "dense (Dense)                (None, 1135)              57885     \n",
            "=================================================================\n",
            "Total params: 134,835\n",
            "Trainable params: 134,835\n",
            "Non-trainable params: 0\n",
            "_________________________________________________________________\n"
          ],
          "name": "stdout"
        }
      ]
    },
    {
      "cell_type": "code",
      "metadata": {
        "id": "8PoJxk2htpvy",
        "colab_type": "code",
        "colab": {}
      },
      "source": [
        "history = model.fit(X_train_w2v, y_train, epochs=5, batch_size=16, verbose=2)\n",
        "\n",
        "# evaluate the keras model\n",
        "_, accuracy = model.evaluate(X_test, y_test, verbose=0)\n",
        "print('Accuracy: %.2f' % (accuracy*100))"
      ],
      "execution_count": null,
      "outputs": []
    },
    {
      "cell_type": "markdown",
      "metadata": {
        "id": "Cw18Kgk13gFO",
        "colab_type": "text"
      },
      "source": [
        "implementazione embedding"
      ]
    },
    {
      "cell_type": "code",
      "metadata": {
        "id": "JaLBDZQs3b6c",
        "colab_type": "code",
        "colab": {
          "base_uri": "https://localhost:8080/",
          "height": 127
        },
        "outputId": "619ed09a-87df-4e4d-e308-a250cdaef45f"
      },
      "source": [
        "sentences_train, sentences_test, y_train, y_test = train_test_split(caption , label, test_size=0.25, random_state=1000)\n",
        "\n",
        "from keras.preprocessing.text import Tokenizer\n",
        "\n",
        "# uso tokenizer per tokenizzare i caption \n",
        "tokenizer = Tokenizer(num_words=1000)\n",
        "tokenizer.fit_on_texts(sentences_train)\n",
        "\n",
        "# trasformo in sequenze\n",
        "X_train = tokenizer.texts_to_sequences(sentences_train)\n",
        "X_test = tokenizer.texts_to_sequences(sentences_test)\n",
        "\n",
        "vocab_size = len(tokenizer.word_index) + 1 \n",
        "\n",
        "from keras.preprocessing.sequence import pad_sequences\n",
        "\n",
        "maxlen = 100\n",
        "\n",
        "# aggiungo del padding per portare tutti allo stessa lunghezza\n",
        "X_train = pad_sequences(X_train, padding='post', maxlen=maxlen)\n",
        "X_test = pad_sequences(X_test, padding='post', maxlen=maxlen)\n",
        "\n",
        "print(X_train[0, :])"
      ],
      "execution_count": 29,
      "outputs": [
        {
          "output_type": "stream",
          "text": [
            "[ 25  41 246 247  16  30  66  87  67   0   0   0   0   0   0   0   0   0\n",
            "   0   0   0   0   0   0   0   0   0   0   0   0   0   0   0   0   0   0\n",
            "   0   0   0   0   0   0   0   0   0   0   0   0   0   0   0   0   0   0\n",
            "   0   0   0   0   0   0   0   0   0   0   0   0   0   0   0   0   0   0\n",
            "   0   0   0   0   0   0   0   0   0   0   0   0   0   0   0   0   0   0\n",
            "   0   0   0   0   0   0   0   0   0   0]\n"
          ],
          "name": "stdout"
        }
      ]
    },
    {
      "cell_type": "markdown",
      "metadata": {
        "id": "A8FyB3xl4JXQ",
        "colab_type": "text"
      },
      "source": [
        "lo stesso modello di sopra con ingresso le embedding"
      ]
    },
    {
      "cell_type": "code",
      "metadata": {
        "id": "oo_xbDp44D9s",
        "colab_type": "code",
        "colab": {
          "base_uri": "https://localhost:8080/",
          "height": 274
        },
        "outputId": "b009b2f2-594a-4665-81cc-2b62536cc4dc"
      },
      "source": [
        "import keras\n",
        "from keras import layers\n",
        "\n",
        "model = keras.Sequential()\n",
        "#strato di ingresso di dimensioni di vocab_size e uscita embedding_size\n",
        "model.add(layers.Embedding(input_dim=vocab_size, output_dim=50, input_length=maxlen))\n",
        "\n",
        "# strato lstm di dim pari all'output dell'embedding\n",
        "model.add(layers.LSTM(units=50))\n",
        "\n",
        "# strato denso di uscita pari a vocab_size.\n",
        "model.add(layers.Dense(1, activation='sigmoid'))\n",
        "model.compile(optimizer='adam', loss='binary_crossentropy', metrics=['acc'])\n",
        "\n",
        "model.summary()"
      ],
      "execution_count": 28,
      "outputs": [
        {
          "output_type": "stream",
          "text": [
            "Model: \"sequential_4\"\n",
            "_________________________________________________________________\n",
            "Layer (type)                 Output Shape              Param #   \n",
            "=================================================================\n",
            "embedding_1 (Embedding)      (None, 100, 50)           54200     \n",
            "_________________________________________________________________\n",
            "lstm_1 (LSTM)                (None, 50)                20200     \n",
            "_________________________________________________________________\n",
            "dense_7 (Dense)              (None, 1)                 51        \n",
            "=================================================================\n",
            "Total params: 74,451\n",
            "Trainable params: 74,451\n",
            "Non-trainable params: 0\n",
            "_________________________________________________________________\n"
          ],
          "name": "stdout"
        }
      ]
    },
    {
      "cell_type": "code",
      "metadata": {
        "id": "M4gu4zrq4Lrh",
        "colab_type": "code",
        "colab": {
          "base_uri": "https://localhost:8080/",
          "height": 403
        },
        "outputId": "9635a476-f662-4332-da6a-3d9952c5e6d5"
      },
      "source": [
        "history = model.fit(X_train, y_train, verbose=1, epochs=10)\n",
        "\n",
        "# evaluate the keras model\n",
        "_, accuracy = model.evaluate(X_test, y_test, verbose=0)\n",
        "print('Accuracy: %.2f' % (accuracy*100))"
      ],
      "execution_count": 30,
      "outputs": [
        {
          "output_type": "stream",
          "text": [
            "Epoch 1/10\n",
            "3/3 [==============================] - 0s 34ms/step - loss: 0.6928 - acc: 0.5417\n",
            "Epoch 2/10\n",
            "3/3 [==============================] - 0s 34ms/step - loss: 0.6916 - acc: 0.5417\n",
            "Epoch 3/10\n",
            "3/3 [==============================] - 0s 37ms/step - loss: 0.6908 - acc: 0.5417\n",
            "Epoch 4/10\n",
            "3/3 [==============================] - 0s 33ms/step - loss: 0.6901 - acc: 0.5417\n",
            "Epoch 5/10\n",
            "3/3 [==============================] - 0s 34ms/step - loss: 0.6892 - acc: 0.5417\n",
            "Epoch 6/10\n",
            "3/3 [==============================] - 0s 35ms/step - loss: 0.6899 - acc: 0.5417\n",
            "Epoch 7/10\n",
            "3/3 [==============================] - 0s 34ms/step - loss: 0.6901 - acc: 0.5417\n",
            "Epoch 8/10\n",
            "3/3 [==============================] - 0s 34ms/step - loss: 0.6911 - acc: 0.5417\n",
            "Epoch 9/10\n",
            "3/3 [==============================] - 0s 35ms/step - loss: 0.6913 - acc: 0.5417\n",
            "Epoch 10/10\n",
            "3/3 [==============================] - 0s 34ms/step - loss: 0.6914 - acc: 0.5417\n",
            "Accuracy: 45.83\n"
          ],
          "name": "stdout"
        }
      ]
    },
    {
      "cell_type": "markdown",
      "metadata": {
        "id": "V8SvD8DqQo5_",
        "colab_type": "text"
      },
      "source": [
        "implementation of cnn for image recognition"
      ]
    },
    {
      "cell_type": "markdown",
      "metadata": {
        "id": "P709fCulR-FE",
        "colab_type": "text"
      },
      "source": [
        "cnn model"
      ]
    },
    {
      "cell_type": "code",
      "metadata": {
        "id": "_ekzsK5S7_J4",
        "colab_type": "code",
        "colab": {
          "base_uri": "https://localhost:8080/",
          "height": 348
        },
        "outputId": "a38a8031-c8e7-40bb-91ec-927cba29b0db"
      },
      "source": [
        "from keras.models import Sequential\n",
        "from keras.layers import Conv2D, MaxPooling2D, Dense, Flatten\n",
        "from keras.metrics import Accuracy\n",
        "\n",
        "model = Sequential()\n",
        "# strato convolutivo\n",
        "model.add(Conv2D(32, 3, 3, input_shape= (150,150,3), activation='relu'))\n",
        "# strato di pooling\n",
        "model.add(MaxPooling2D(pool_size= (2,2)))\n",
        "# flattering\n",
        "model.add(Flatten())\n",
        "# strato full-connected\n",
        "model.add(Dense(128, activation='relu'))\n",
        "# output - 1 perchè binario\n",
        "model.add(Dense(1, activation='sigmoid'))\n",
        "\n",
        "model.compile(optimizer='adam', loss= 'binary_crossentropy', metrics=['accuracy'])\n",
        "\n",
        "model.summary()\n"
      ],
      "execution_count": 18,
      "outputs": [
        {
          "output_type": "stream",
          "text": [
            "Model: \"sequential_3\"\n",
            "_________________________________________________________________\n",
            "Layer (type)                 Output Shape              Param #   \n",
            "=================================================================\n",
            "conv2d_2 (Conv2D)            (None, 50, 50, 32)        896       \n",
            "_________________________________________________________________\n",
            "max_pooling2d_2 (MaxPooling2 (None, 25, 25, 32)        0         \n",
            "_________________________________________________________________\n",
            "flatten_2 (Flatten)          (None, 20000)             0         \n",
            "_________________________________________________________________\n",
            "dense_5 (Dense)              (None, 128)               2560128   \n",
            "_________________________________________________________________\n",
            "dense_6 (Dense)              (None, 1)                 129       \n",
            "=================================================================\n",
            "Total params: 2,561,153\n",
            "Trainable params: 2,561,153\n",
            "Non-trainable params: 0\n",
            "_________________________________________________________________\n"
          ],
          "name": "stdout"
        }
      ]
    },
    {
      "cell_type": "code",
      "metadata": {
        "id": "aZnR4rdcvfIl",
        "colab_type": "code",
        "colab": {
          "base_uri": "https://localhost:8080/",
          "height": 54
        },
        "outputId": "69cc5848-0977-4b07-cf05-e2930c45674a"
      },
      "source": [
        "from keras.preprocessing.image import ImageDataGenerator\n",
        "\n",
        "train_image_path = \"/content/drive/My Drive/progetto/dataset/tranning_set\"\n",
        "test_image_path = \"/content/drive/My Drive/progetto/dataset/test_set\"\n",
        "batch_size = 16\n",
        "\n",
        "# data augmentation\n",
        "train_datagen = ImageDataGenerator(\n",
        "        rescale=1./255,\n",
        "        shear_range=0.2,\n",
        "        zoom_range=0.2,\n",
        "        horizontal_flip=True)\n",
        "\n",
        "test_datagen = ImageDataGenerator(rescale=1./255)\n",
        "\n",
        "# this is a generator that will read pictures found in\n",
        "# subfolers of 'data/train', and indefinitely generate\n",
        "# batches of augmented image data\n",
        "train_generator = train_datagen.flow_from_directory(\n",
        "        train_image_path,  # this is the target directory\n",
        "        target_size=(150, 150),  # all images will be resized to 150x150\n",
        "        batch_size=batch_size,\n",
        "        class_mode='binary')  # since we use binary_crossentropy loss, we need binary labels\n",
        "\n",
        "# this is a similar generator, for validation data\n",
        "validation_generator = test_datagen.flow_from_directory(\n",
        "        test_image_path,\n",
        "        target_size=(150, 150),\n",
        "        batch_size=batch_size,\n",
        "        class_mode='binary')"
      ],
      "execution_count": 10,
      "outputs": [
        {
          "output_type": "stream",
          "text": [
            "Found 70 images belonging to 2 classes.\n",
            "Found 30 images belonging to 2 classes.\n"
          ],
          "name": "stdout"
        }
      ]
    },
    {
      "cell_type": "code",
      "metadata": {
        "id": "SmNvXy1NwFAI",
        "colab_type": "code",
        "colab": {
          "base_uri": "https://localhost:8080/",
          "height": 403
        },
        "outputId": "dbd097bd-1a40-4192-8fc3-fb44f0e88f62"
      },
      "source": [
        "model.fit(\n",
        "        train_generator,\n",
        "        epochs=10,\n",
        "        validation_data=validation_generator)"
      ],
      "execution_count": 19,
      "outputs": [
        {
          "output_type": "stream",
          "text": [
            "Epoch 1/10\n",
            "5/5 [==============================] - 3s 611ms/step - loss: 1.7656 - accuracy: 0.5143 - val_loss: 1.2413 - val_accuracy: 0.5000\n",
            "Epoch 2/10\n",
            "5/5 [==============================] - 3s 511ms/step - loss: 1.0143 - accuracy: 0.4857 - val_loss: 0.8185 - val_accuracy: 0.5667\n",
            "Epoch 3/10\n",
            "5/5 [==============================] - 3s 500ms/step - loss: 0.8564 - accuracy: 0.4286 - val_loss: 0.7156 - val_accuracy: 0.5000\n",
            "Epoch 4/10\n",
            "5/5 [==============================] - 3s 510ms/step - loss: 0.7265 - accuracy: 0.5714 - val_loss: 0.7199 - val_accuracy: 0.6000\n",
            "Epoch 5/10\n",
            "5/5 [==============================] - 3s 552ms/step - loss: 0.6710 - accuracy: 0.5714 - val_loss: 0.7249 - val_accuracy: 0.5000\n",
            "Epoch 6/10\n",
            "5/5 [==============================] - 3s 570ms/step - loss: 0.6063 - accuracy: 0.6429 - val_loss: 0.5991 - val_accuracy: 0.6000\n",
            "Epoch 7/10\n",
            "5/5 [==============================] - 3s 515ms/step - loss: 0.5904 - accuracy: 0.6429 - val_loss: 0.6374 - val_accuracy: 0.6000\n",
            "Epoch 8/10\n",
            "5/5 [==============================] - 3s 502ms/step - loss: 0.5441 - accuracy: 0.6857 - val_loss: 0.5586 - val_accuracy: 0.8000\n",
            "Epoch 9/10\n",
            "5/5 [==============================] - 3s 562ms/step - loss: 0.5201 - accuracy: 0.8000 - val_loss: 0.5416 - val_accuracy: 0.8000\n",
            "Epoch 10/10\n",
            "5/5 [==============================] - 3s 524ms/step - loss: 0.4974 - accuracy: 0.7857 - val_loss: 0.5286 - val_accuracy: 0.7667\n"
          ],
          "name": "stdout"
        },
        {
          "output_type": "execute_result",
          "data": {
            "text/plain": [
              "<tensorflow.python.keras.callbacks.History at 0x7f678b1761d0>"
            ]
          },
          "metadata": {
            "tags": []
          },
          "execution_count": 19
        }
      ]
    },
    {
      "cell_type": "markdown",
      "metadata": {
        "id": "GntdkFyU4kVf",
        "colab_type": "text"
      },
      "source": [
        "modello finale "
      ]
    },
    {
      "cell_type": "code",
      "metadata": {
        "id": "yqsfi3tV4j68",
        "colab_type": "code",
        "colab": {
          "base_uri": "https://localhost:8080/",
          "height": 586
        },
        "outputId": "2a5a9edc-c940-44fc-e57a-26c8374b21a4"
      },
      "source": [
        "from keras.models import Model\n",
        "from keras.layers import Input, Dense, Dropout, Embedding, Conv2D, MaxPooling2D, Flatten, LSTM\n",
        "from keras.layers.merge import concatenate\n",
        "\n",
        "input1 = Input(shape = (180,180, 3), name= 'image')\n",
        "input2 = Input(shape=(None,), name= 'caption')\n",
        "\n",
        "# first input\n",
        "\n",
        "# convolution\n",
        "x = Conv2D(32, 3, 3, input_shape= (150,150,3), activation='relu')(input1)\n",
        "# pooling\n",
        "x = MaxPooling2D(pool_size= (2,2))(x)\n",
        "# flattering\n",
        "x = Flatten()(x)\n",
        "# full-connected \n",
        "x = Dense(128, activation='relu')(x)\n",
        "\n",
        "x = Model(inputs=input1, outputs=x)\n",
        "\n",
        "# second input\n",
        "\n",
        "# embedding con in input vocab_size e uscita embedding_size del modello w2v\n",
        "y = Embedding(input_dim=vocab_size, output_dim=emdedding_size)(input2)\n",
        "\n",
        "# strato lstm di dim pari all'output dell'embedding\n",
        "y = LSTM(emdedding_size)(y)\n",
        "\n",
        "y = Dense(vocab_size)(y)\n",
        "\n",
        "y = Model(inputs=input2, outputs=y)\n",
        "\n",
        "final_model = concatenate([x.output, y.output])\n",
        "\n",
        "predictions = Dense(1, activation='softmax', name='main_output')(final_model)\n",
        "\n",
        "model = Model(inputs=[x.input, y.input], outputs=predictions)\n",
        "\n",
        "model.compile(optimizer='adam', loss= 'binary_crossentropy', metrics=['accuracy'])\n",
        "\n",
        "model.summary()"
      ],
      "execution_count": 31,
      "outputs": [
        {
          "output_type": "stream",
          "text": [
            "Model: \"functional_5\"\n",
            "__________________________________________________________________________________________________\n",
            "Layer (type)                    Output Shape         Param #     Connected to                     \n",
            "==================================================================================================\n",
            "image (InputLayer)              [(None, 180, 180, 3) 0                                            \n",
            "__________________________________________________________________________________________________\n",
            "conv2d_3 (Conv2D)               (None, 60, 60, 32)   896         image[0][0]                      \n",
            "__________________________________________________________________________________________________\n",
            "caption (InputLayer)            [(None, None)]       0                                            \n",
            "__________________________________________________________________________________________________\n",
            "max_pooling2d_3 (MaxPooling2D)  (None, 30, 30, 32)   0           conv2d_3[0][0]                   \n",
            "__________________________________________________________________________________________________\n",
            "embedding_2 (Embedding)         (None, None, 50)     54200       caption[0][0]                    \n",
            "__________________________________________________________________________________________________\n",
            "flatten_3 (Flatten)             (None, 28800)        0           max_pooling2d_3[0][0]            \n",
            "__________________________________________________________________________________________________\n",
            "lstm_2 (LSTM)                   (None, 50)           20200       embedding_2[0][0]                \n",
            "__________________________________________________________________________________________________\n",
            "dense_8 (Dense)                 (None, 128)          3686528     flatten_3[0][0]                  \n",
            "__________________________________________________________________________________________________\n",
            "dense_9 (Dense)                 (None, 1084)         55284       lstm_2[0][0]                     \n",
            "__________________________________________________________________________________________________\n",
            "concatenate (Concatenate)       (None, 1212)         0           dense_8[0][0]                    \n",
            "                                                                 dense_9[0][0]                    \n",
            "__________________________________________________________________________________________________\n",
            "main_output (Dense)             (None, 1)            1213        concatenate[0][0]                \n",
            "==================================================================================================\n",
            "Total params: 3,818,321\n",
            "Trainable params: 3,818,321\n",
            "Non-trainable params: 0\n",
            "__________________________________________________________________________________________________\n"
          ],
          "name": "stdout"
        }
      ]
    },
    {
      "cell_type": "code",
      "metadata": {
        "id": "wyUX5gI_4r2u",
        "colab_type": "code",
        "colab": {
          "base_uri": "https://localhost:8080/",
          "height": 661
        },
        "outputId": "0be15975-765b-4f43-a380-120ac3d25566"
      },
      "source": [
        "from keras.utils import plot_model\n",
        "\n",
        "plot_model(model, to_file='./grafo_progetto.png')"
      ],
      "execution_count": 32,
      "outputs": [
        {
          "output_type": "execute_result",
          "data": {
            "image/png": "[encoded data removed]",
            "text/plain": [
              "<IPython.core.display.Image object>"
            ]
          },
          "metadata": {
            "tags": []
          },
          "execution_count": 32
        }
      ]
    },
    {
      "cell_type": "code",
      "metadata": {
        "id": "WNDxbecS4vsC",
        "colab_type": "code",
        "colab": {}
      },
      "source": [
        "model.fit([train_generator, X_train], [validation_generator, y_train], epochs=10)"
      ],
      "execution_count": null,
      "outputs": []
    }
  ]
}